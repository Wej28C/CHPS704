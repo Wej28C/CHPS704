{
  "nbformat": 4,
  "nbformat_minor": 0,
  "metadata": {
    "colab": {
      "name": "WineQuality.ipynb",
      "provenance": [],
      "include_colab_link": true
    },
    "kernelspec": {
      "name": "python3",
      "display_name": "Python 3"
    }
  },
  "cells": [
    {
      "cell_type": "markdown",
      "metadata": {
        "id": "view-in-github",
        "colab_type": "text"
      },
      "source": [
        "<a href=\"https://colab.research.google.com/github/Wej28C/Introduction_Artificial_intelligence_CHPS704/blob/main/TP2/TP2.1-Qualit%C3%A9%20du%20vin.ipynb\" target=\"_parent\"><img src=\"https://colab.research.google.com/assets/colab-badge.svg\" alt=\"Open In Colab\"/></a>"
      ]
    },
    {
      "cell_type": "markdown",
      "metadata": {
        "id": "g1v1FSysORmW"
      },
      "source": [
        "**Importer les bibliothèques Python**"
      ]
    },
    {
      "cell_type": "code",
      "metadata": {
        "id": "XmDV4L-MOI7O"
      },
      "source": [
        "import numpy as np\n",
        "import pandas as pd\n",
        "\n",
        "import seaborn as sns\n",
        "import matplotlib.pyplot as plt"
      ],
      "execution_count": 1,
      "outputs": []
    },
    {
      "cell_type": "markdown",
      "metadata": {
        "id": "L_7aMJA_Of39"
      },
      "source": [
        "**Télécharger le Dataset**"
      ]
    },
    {
      "cell_type": "code",
      "metadata": {
        "id": "raeX52l7Oe5K",
        "outputId": "d7b09125-7e22-4c39-8c89-0b3991575004",
        "colab": {
          "base_uri": "https://localhost:8080/",
          "height": 223
        }
      },
      "source": [
        "data = pd.read_csv('http://archive.ics.uci.edu/ml/machine-learning-databases/wine-quality/winequality-red.csv',sep=';')\n",
        "\n",
        "data.head()"
      ],
      "execution_count": 2,
      "outputs": [
        {
          "output_type": "execute_result",
          "data": {
            "text/plain": [
              "   fixed acidity  volatile acidity  citric acid  residual sugar  chlorides  \\\n",
              "0            7.4              0.70         0.00             1.9      0.076   \n",
              "1            7.8              0.88         0.00             2.6      0.098   \n",
              "2            7.8              0.76         0.04             2.3      0.092   \n",
              "3           11.2              0.28         0.56             1.9      0.075   \n",
              "4            7.4              0.70         0.00             1.9      0.076   \n",
              "\n",
              "   free sulfur dioxide  total sulfur dioxide  density    pH  sulphates  \\\n",
              "0                 11.0                  34.0   0.9978  3.51       0.56   \n",
              "1                 25.0                  67.0   0.9968  3.20       0.68   \n",
              "2                 15.0                  54.0   0.9970  3.26       0.65   \n",
              "3                 17.0                  60.0   0.9980  3.16       0.58   \n",
              "4                 11.0                  34.0   0.9978  3.51       0.56   \n",
              "\n",
              "   alcohol  quality  \n",
              "0      9.4        5  \n",
              "1      9.8        5  \n",
              "2      9.8        5  \n",
              "3      9.8        6  \n",
              "4      9.4        5  "
            ],
            "text/html": [
              "\n",
              "  <div id=\"df-4806c704-774e-44a9-bccb-a431214dfa2a\" class=\"colab-df-container\">\n",
              "    <div>\n",
              "<style scoped>\n",
              "    .dataframe tbody tr th:only-of-type {\n",
              "        vertical-align: middle;\n",
              "    }\n",
              "\n",
              "    .dataframe tbody tr th {\n",
              "        vertical-align: top;\n",
              "    }\n",
              "\n",
              "    .dataframe thead th {\n",
              "        text-align: right;\n",
              "    }\n",
              "</style>\n",
              "<table border=\"1\" class=\"dataframe\">\n",
              "  <thead>\n",
              "    <tr style=\"text-align: right;\">\n",
              "      <th></th>\n",
              "      <th>fixed acidity</th>\n",
              "      <th>volatile acidity</th>\n",
              "      <th>citric acid</th>\n",
              "      <th>residual sugar</th>\n",
              "      <th>chlorides</th>\n",
              "      <th>free sulfur dioxide</th>\n",
              "      <th>total sulfur dioxide</th>\n",
              "      <th>density</th>\n",
              "      <th>pH</th>\n",
              "      <th>sulphates</th>\n",
              "      <th>alcohol</th>\n",
              "      <th>quality</th>\n",
              "    </tr>\n",
              "  </thead>\n",
              "  <tbody>\n",
              "    <tr>\n",
              "      <th>0</th>\n",
              "      <td>7.4</td>\n",
              "      <td>0.70</td>\n",
              "      <td>0.00</td>\n",
              "      <td>1.9</td>\n",
              "      <td>0.076</td>\n",
              "      <td>11.0</td>\n",
              "      <td>34.0</td>\n",
              "      <td>0.9978</td>\n",
              "      <td>3.51</td>\n",
              "      <td>0.56</td>\n",
              "      <td>9.4</td>\n",
              "      <td>5</td>\n",
              "    </tr>\n",
              "    <tr>\n",
              "      <th>1</th>\n",
              "      <td>7.8</td>\n",
              "      <td>0.88</td>\n",
              "      <td>0.00</td>\n",
              "      <td>2.6</td>\n",
              "      <td>0.098</td>\n",
              "      <td>25.0</td>\n",
              "      <td>67.0</td>\n",
              "      <td>0.9968</td>\n",
              "      <td>3.20</td>\n",
              "      <td>0.68</td>\n",
              "      <td>9.8</td>\n",
              "      <td>5</td>\n",
              "    </tr>\n",
              "    <tr>\n",
              "      <th>2</th>\n",
              "      <td>7.8</td>\n",
              "      <td>0.76</td>\n",
              "      <td>0.04</td>\n",
              "      <td>2.3</td>\n",
              "      <td>0.092</td>\n",
              "      <td>15.0</td>\n",
              "      <td>54.0</td>\n",
              "      <td>0.9970</td>\n",
              "      <td>3.26</td>\n",
              "      <td>0.65</td>\n",
              "      <td>9.8</td>\n",
              "      <td>5</td>\n",
              "    </tr>\n",
              "    <tr>\n",
              "      <th>3</th>\n",
              "      <td>11.2</td>\n",
              "      <td>0.28</td>\n",
              "      <td>0.56</td>\n",
              "      <td>1.9</td>\n",
              "      <td>0.075</td>\n",
              "      <td>17.0</td>\n",
              "      <td>60.0</td>\n",
              "      <td>0.9980</td>\n",
              "      <td>3.16</td>\n",
              "      <td>0.58</td>\n",
              "      <td>9.8</td>\n",
              "      <td>6</td>\n",
              "    </tr>\n",
              "    <tr>\n",
              "      <th>4</th>\n",
              "      <td>7.4</td>\n",
              "      <td>0.70</td>\n",
              "      <td>0.00</td>\n",
              "      <td>1.9</td>\n",
              "      <td>0.076</td>\n",
              "      <td>11.0</td>\n",
              "      <td>34.0</td>\n",
              "      <td>0.9978</td>\n",
              "      <td>3.51</td>\n",
              "      <td>0.56</td>\n",
              "      <td>9.4</td>\n",
              "      <td>5</td>\n",
              "    </tr>\n",
              "  </tbody>\n",
              "</table>\n",
              "</div>\n",
              "    <div class=\"colab-df-buttons\">\n",
              "\n",
              "  <div class=\"colab-df-container\">\n",
              "    <button class=\"colab-df-convert\" onclick=\"convertToInteractive('df-4806c704-774e-44a9-bccb-a431214dfa2a')\"\n",
              "            title=\"Convert this dataframe to an interactive table.\"\n",
              "            style=\"display:none;\">\n",
              "\n",
              "  <svg xmlns=\"http://www.w3.org/2000/svg\" height=\"24px\" viewBox=\"0 -960 960 960\">\n",
              "    <path d=\"M120-120v-720h720v720H120Zm60-500h600v-160H180v160Zm220 220h160v-160H400v160Zm0 220h160v-160H400v160ZM180-400h160v-160H180v160Zm440 0h160v-160H620v160ZM180-180h160v-160H180v160Zm440 0h160v-160H620v160Z\"/>\n",
              "  </svg>\n",
              "    </button>\n",
              "\n",
              "  <style>\n",
              "    .colab-df-container {\n",
              "      display:flex;\n",
              "      gap: 12px;\n",
              "    }\n",
              "\n",
              "    .colab-df-convert {\n",
              "      background-color: #E8F0FE;\n",
              "      border: none;\n",
              "      border-radius: 50%;\n",
              "      cursor: pointer;\n",
              "      display: none;\n",
              "      fill: #1967D2;\n",
              "      height: 32px;\n",
              "      padding: 0 0 0 0;\n",
              "      width: 32px;\n",
              "    }\n",
              "\n",
              "    .colab-df-convert:hover {\n",
              "      background-color: #E2EBFA;\n",
              "      box-shadow: 0px 1px 2px rgba(60, 64, 67, 0.3), 0px 1px 3px 1px rgba(60, 64, 67, 0.15);\n",
              "      fill: #174EA6;\n",
              "    }\n",
              "\n",
              "    .colab-df-buttons div {\n",
              "      margin-bottom: 4px;\n",
              "    }\n",
              "\n",
              "    [theme=dark] .colab-df-convert {\n",
              "      background-color: #3B4455;\n",
              "      fill: #D2E3FC;\n",
              "    }\n",
              "\n",
              "    [theme=dark] .colab-df-convert:hover {\n",
              "      background-color: #434B5C;\n",
              "      box-shadow: 0px 1px 3px 1px rgba(0, 0, 0, 0.15);\n",
              "      filter: drop-shadow(0px 1px 2px rgba(0, 0, 0, 0.3));\n",
              "      fill: #FFFFFF;\n",
              "    }\n",
              "  </style>\n",
              "\n",
              "    <script>\n",
              "      const buttonEl =\n",
              "        document.querySelector('#df-4806c704-774e-44a9-bccb-a431214dfa2a button.colab-df-convert');\n",
              "      buttonEl.style.display =\n",
              "        google.colab.kernel.accessAllowed ? 'block' : 'none';\n",
              "\n",
              "      async function convertToInteractive(key) {\n",
              "        const element = document.querySelector('#df-4806c704-774e-44a9-bccb-a431214dfa2a');\n",
              "        const dataTable =\n",
              "          await google.colab.kernel.invokeFunction('convertToInteractive',\n",
              "                                                    [key], {});\n",
              "        if (!dataTable) return;\n",
              "\n",
              "        const docLinkHtml = 'Like what you see? Visit the ' +\n",
              "          '<a target=\"_blank\" href=https://colab.research.google.com/notebooks/data_table.ipynb>data table notebook</a>'\n",
              "          + ' to learn more about interactive tables.';\n",
              "        element.innerHTML = '';\n",
              "        dataTable['output_type'] = 'display_data';\n",
              "        await google.colab.output.renderOutput(dataTable, element);\n",
              "        const docLink = document.createElement('div');\n",
              "        docLink.innerHTML = docLinkHtml;\n",
              "        element.appendChild(docLink);\n",
              "      }\n",
              "    </script>\n",
              "  </div>\n",
              "\n",
              "\n",
              "<div id=\"df-af006cb4-274c-44bd-bd11-8886d164fe65\">\n",
              "  <button class=\"colab-df-quickchart\" onclick=\"quickchart('df-af006cb4-274c-44bd-bd11-8886d164fe65')\"\n",
              "            title=\"Suggest charts\"\n",
              "            style=\"display:none;\">\n",
              "\n",
              "<svg xmlns=\"http://www.w3.org/2000/svg\" height=\"24px\"viewBox=\"0 0 24 24\"\n",
              "     width=\"24px\">\n",
              "    <g>\n",
              "        <path d=\"M19 3H5c-1.1 0-2 .9-2 2v14c0 1.1.9 2 2 2h14c1.1 0 2-.9 2-2V5c0-1.1-.9-2-2-2zM9 17H7v-7h2v7zm4 0h-2V7h2v10zm4 0h-2v-4h2v4z\"/>\n",
              "    </g>\n",
              "</svg>\n",
              "  </button>\n",
              "\n",
              "<style>\n",
              "  .colab-df-quickchart {\n",
              "      --bg-color: #E8F0FE;\n",
              "      --fill-color: #1967D2;\n",
              "      --hover-bg-color: #E2EBFA;\n",
              "      --hover-fill-color: #174EA6;\n",
              "      --disabled-fill-color: #AAA;\n",
              "      --disabled-bg-color: #DDD;\n",
              "  }\n",
              "\n",
              "  [theme=dark] .colab-df-quickchart {\n",
              "      --bg-color: #3B4455;\n",
              "      --fill-color: #D2E3FC;\n",
              "      --hover-bg-color: #434B5C;\n",
              "      --hover-fill-color: #FFFFFF;\n",
              "      --disabled-bg-color: #3B4455;\n",
              "      --disabled-fill-color: #666;\n",
              "  }\n",
              "\n",
              "  .colab-df-quickchart {\n",
              "    background-color: var(--bg-color);\n",
              "    border: none;\n",
              "    border-radius: 50%;\n",
              "    cursor: pointer;\n",
              "    display: none;\n",
              "    fill: var(--fill-color);\n",
              "    height: 32px;\n",
              "    padding: 0;\n",
              "    width: 32px;\n",
              "  }\n",
              "\n",
              "  .colab-df-quickchart:hover {\n",
              "    background-color: var(--hover-bg-color);\n",
              "    box-shadow: 0 1px 2px rgba(60, 64, 67, 0.3), 0 1px 3px 1px rgba(60, 64, 67, 0.15);\n",
              "    fill: var(--button-hover-fill-color);\n",
              "  }\n",
              "\n",
              "  .colab-df-quickchart-complete:disabled,\n",
              "  .colab-df-quickchart-complete:disabled:hover {\n",
              "    background-color: var(--disabled-bg-color);\n",
              "    fill: var(--disabled-fill-color);\n",
              "    box-shadow: none;\n",
              "  }\n",
              "\n",
              "  .colab-df-spinner {\n",
              "    border: 2px solid var(--fill-color);\n",
              "    border-color: transparent;\n",
              "    border-bottom-color: var(--fill-color);\n",
              "    animation:\n",
              "      spin 1s steps(1) infinite;\n",
              "  }\n",
              "\n",
              "  @keyframes spin {\n",
              "    0% {\n",
              "      border-color: transparent;\n",
              "      border-bottom-color: var(--fill-color);\n",
              "      border-left-color: var(--fill-color);\n",
              "    }\n",
              "    20% {\n",
              "      border-color: transparent;\n",
              "      border-left-color: var(--fill-color);\n",
              "      border-top-color: var(--fill-color);\n",
              "    }\n",
              "    30% {\n",
              "      border-color: transparent;\n",
              "      border-left-color: var(--fill-color);\n",
              "      border-top-color: var(--fill-color);\n",
              "      border-right-color: var(--fill-color);\n",
              "    }\n",
              "    40% {\n",
              "      border-color: transparent;\n",
              "      border-right-color: var(--fill-color);\n",
              "      border-top-color: var(--fill-color);\n",
              "    }\n",
              "    60% {\n",
              "      border-color: transparent;\n",
              "      border-right-color: var(--fill-color);\n",
              "    }\n",
              "    80% {\n",
              "      border-color: transparent;\n",
              "      border-right-color: var(--fill-color);\n",
              "      border-bottom-color: var(--fill-color);\n",
              "    }\n",
              "    90% {\n",
              "      border-color: transparent;\n",
              "      border-bottom-color: var(--fill-color);\n",
              "    }\n",
              "  }\n",
              "</style>\n",
              "\n",
              "  <script>\n",
              "    async function quickchart(key) {\n",
              "      const quickchartButtonEl =\n",
              "        document.querySelector('#' + key + ' button');\n",
              "      quickchartButtonEl.disabled = true;  // To prevent multiple clicks.\n",
              "      quickchartButtonEl.classList.add('colab-df-spinner');\n",
              "      try {\n",
              "        const charts = await google.colab.kernel.invokeFunction(\n",
              "            'suggestCharts', [key], {});\n",
              "      } catch (error) {\n",
              "        console.error('Error during call to suggestCharts:', error);\n",
              "      }\n",
              "      quickchartButtonEl.classList.remove('colab-df-spinner');\n",
              "      quickchartButtonEl.classList.add('colab-df-quickchart-complete');\n",
              "    }\n",
              "    (() => {\n",
              "      let quickchartButtonEl =\n",
              "        document.querySelector('#df-af006cb4-274c-44bd-bd11-8886d164fe65 button');\n",
              "      quickchartButtonEl.style.display =\n",
              "        google.colab.kernel.accessAllowed ? 'block' : 'none';\n",
              "    })();\n",
              "  </script>\n",
              "</div>\n",
              "\n",
              "    </div>\n",
              "  </div>\n"
            ],
            "application/vnd.google.colaboratory.intrinsic+json": {
              "type": "dataframe",
              "variable_name": "data",
              "summary": "{\n  \"name\": \"data\",\n  \"rows\": 1599,\n  \"fields\": [\n    {\n      \"column\": \"fixed acidity\",\n      \"properties\": {\n        \"dtype\": \"number\",\n        \"std\": 1.7410963181277006,\n        \"min\": 4.6,\n        \"max\": 15.9,\n        \"num_unique_values\": 96,\n        \"samples\": [\n          5.3,\n          12.7,\n          12.6\n        ],\n        \"semantic_type\": \"\",\n        \"description\": \"\"\n      }\n    },\n    {\n      \"column\": \"volatile acidity\",\n      \"properties\": {\n        \"dtype\": \"number\",\n        \"std\": 0.17905970415353498,\n        \"min\": 0.12,\n        \"max\": 1.58,\n        \"num_unique_values\": 143,\n        \"samples\": [\n          1.025,\n          0.4,\n          0.87\n        ],\n        \"semantic_type\": \"\",\n        \"description\": \"\"\n      }\n    },\n    {\n      \"column\": \"citric acid\",\n      \"properties\": {\n        \"dtype\": \"number\",\n        \"std\": 0.19480113740531785,\n        \"min\": 0.0,\n        \"max\": 1.0,\n        \"num_unique_values\": 80,\n        \"samples\": [\n          0.37,\n          0.0,\n          0.09\n        ],\n        \"semantic_type\": \"\",\n        \"description\": \"\"\n      }\n    },\n    {\n      \"column\": \"residual sugar\",\n      \"properties\": {\n        \"dtype\": \"number\",\n        \"std\": 1.4099280595072805,\n        \"min\": 0.9,\n        \"max\": 15.5,\n        \"num_unique_values\": 91,\n        \"samples\": [\n          11.0,\n          3.0,\n          15.5\n        ],\n        \"semantic_type\": \"\",\n        \"description\": \"\"\n      }\n    },\n    {\n      \"column\": \"chlorides\",\n      \"properties\": {\n        \"dtype\": \"number\",\n        \"std\": 0.047065302010090154,\n        \"min\": 0.012,\n        \"max\": 0.611,\n        \"num_unique_values\": 153,\n        \"samples\": [\n          0.096,\n          0.343,\n          0.159\n        ],\n        \"semantic_type\": \"\",\n        \"description\": \"\"\n      }\n    },\n    {\n      \"column\": \"free sulfur dioxide\",\n      \"properties\": {\n        \"dtype\": \"number\",\n        \"std\": 10.46015696980973,\n        \"min\": 1.0,\n        \"max\": 72.0,\n        \"num_unique_values\": 60,\n        \"samples\": [\n          11.0,\n          9.0,\n          32.0\n        ],\n        \"semantic_type\": \"\",\n        \"description\": \"\"\n      }\n    },\n    {\n      \"column\": \"total sulfur dioxide\",\n      \"properties\": {\n        \"dtype\": \"number\",\n        \"std\": 32.89532447829901,\n        \"min\": 6.0,\n        \"max\": 289.0,\n        \"num_unique_values\": 144,\n        \"samples\": [\n          68.0,\n          35.0,\n          101.0\n        ],\n        \"semantic_type\": \"\",\n        \"description\": \"\"\n      }\n    },\n    {\n      \"column\": \"density\",\n      \"properties\": {\n        \"dtype\": \"number\",\n        \"std\": 0.0018873339538425559,\n        \"min\": 0.99007,\n        \"max\": 1.00369,\n        \"num_unique_values\": 436,\n        \"samples\": [\n          0.99974,\n          1.0001,\n          0.99471\n        ],\n        \"semantic_type\": \"\",\n        \"description\": \"\"\n      }\n    },\n    {\n      \"column\": \"pH\",\n      \"properties\": {\n        \"dtype\": \"number\",\n        \"std\": 0.15438646490354266,\n        \"min\": 2.74,\n        \"max\": 4.01,\n        \"num_unique_values\": 89,\n        \"samples\": [\n          3.07,\n          3.0,\n          3.15\n        ],\n        \"semantic_type\": \"\",\n        \"description\": \"\"\n      }\n    },\n    {\n      \"column\": \"sulphates\",\n      \"properties\": {\n        \"dtype\": \"number\",\n        \"std\": 0.16950697959010977,\n        \"min\": 0.33,\n        \"max\": 2.0,\n        \"num_unique_values\": 96,\n        \"samples\": [\n          1.07,\n          1.04,\n          1.18\n        ],\n        \"semantic_type\": \"\",\n        \"description\": \"\"\n      }\n    },\n    {\n      \"column\": \"alcohol\",\n      \"properties\": {\n        \"dtype\": \"number\",\n        \"std\": 1.0656675818473926,\n        \"min\": 8.4,\n        \"max\": 14.9,\n        \"num_unique_values\": 65,\n        \"samples\": [\n          8.5,\n          9.95,\n          9.4\n        ],\n        \"semantic_type\": \"\",\n        \"description\": \"\"\n      }\n    },\n    {\n      \"column\": \"quality\",\n      \"properties\": {\n        \"dtype\": \"number\",\n        \"std\": 0,\n        \"min\": 3,\n        \"max\": 8,\n        \"num_unique_values\": 6,\n        \"samples\": [\n          5,\n          6,\n          3\n        ],\n        \"semantic_type\": \"\",\n        \"description\": \"\"\n      }\n    }\n  ]\n}"
            }
          },
          "metadata": {},
          "execution_count": 2
        }
      ]
    },
    {
      "cell_type": "markdown",
      "metadata": {
        "id": "TTZ3r1dE7zs5"
      },
      "source": [
        "## Premiers pas : identifier les données"
      ]
    },
    {
      "cell_type": "markdown",
      "source": [
        "### Quels sont les noms des colonnes ?"
      ],
      "metadata": {
        "id": "t7Kt5o9teqPA"
      }
    },
    {
      "cell_type": "code",
      "metadata": {
        "id": "tuDht_a3O575",
        "outputId": "6c50789d-d5eb-43fb-f8f6-0a8b35abc63e",
        "colab": {
          "base_uri": "https://localhost:8080/"
        }
      },
      "source": [
        "nom_colonnes = data.columns\n",
        "print(nom_colonnes)\n",
        "noms_colonnes_liste = list(data.columns)\n",
        "print(noms_colonnes_liste)"
      ],
      "execution_count": 4,
      "outputs": [
        {
          "output_type": "stream",
          "name": "stdout",
          "text": [
            "Index(['fixed acidity', 'volatile acidity', 'citric acid', 'residual sugar',\n",
            "       'chlorides', 'free sulfur dioxide', 'total sulfur dioxide', 'density',\n",
            "       'pH', 'sulphates', 'alcohol', 'quality'],\n",
            "      dtype='object')\n",
            "['fixed acidity', 'volatile acidity', 'citric acid', 'residual sugar', 'chlorides', 'free sulfur dioxide', 'total sulfur dioxide', 'density', 'pH', 'sulphates', 'alcohol', 'quality']\n"
          ]
        }
      ]
    },
    {
      "cell_type": "markdown",
      "source": [
        "### Utiliser describe() et info() pour étudier le dataset\n",
        "Question 1 : Il y a combien d'entrées (registres) ?\n",
        "Question 2 : Est-ce qu'il y a des données manquantes ?"
      ],
      "metadata": {
        "id": "62yTiHyiexvD"
      }
    },
    {
      "cell_type": "code",
      "metadata": {
        "id": "FWtm8MrLb1Yl",
        "outputId": "2e980378-d087-4898-a215-e55714c32819",
        "colab": {
          "base_uri": "https://localhost:8080/"
        }
      },
      "source": [
        "data.info()\n",
        "\n",
        "# methode describe() pour obtenir des statistiques descriptives\n",
        "statistiques = data.describe()\n",
        "print(statistiques)\n",
        "\n",
        "# Question 1 : Nombre d'entrées (registres)\n",
        "nombre_entrees = data.shape[0]\n",
        "print(f\"Nombre d'entrées : {nombre_entrees}\")"
      ],
      "execution_count": 5,
      "outputs": [
        {
          "output_type": "stream",
          "name": "stdout",
          "text": [
            "<class 'pandas.core.frame.DataFrame'>\n",
            "RangeIndex: 1599 entries, 0 to 1598\n",
            "Data columns (total 12 columns):\n",
            " #   Column                Non-Null Count  Dtype  \n",
            "---  ------                --------------  -----  \n",
            " 0   fixed acidity         1599 non-null   float64\n",
            " 1   volatile acidity      1599 non-null   float64\n",
            " 2   citric acid           1599 non-null   float64\n",
            " 3   residual sugar        1599 non-null   float64\n",
            " 4   chlorides             1599 non-null   float64\n",
            " 5   free sulfur dioxide   1599 non-null   float64\n",
            " 6   total sulfur dioxide  1599 non-null   float64\n",
            " 7   density               1599 non-null   float64\n",
            " 8   pH                    1599 non-null   float64\n",
            " 9   sulphates             1599 non-null   float64\n",
            " 10  alcohol               1599 non-null   float64\n",
            " 11  quality               1599 non-null   int64  \n",
            "dtypes: float64(11), int64(1)\n",
            "memory usage: 150.0 KB\n",
            "       fixed acidity  volatile acidity  citric acid  residual sugar  \\\n",
            "count    1599.000000       1599.000000  1599.000000     1599.000000   \n",
            "mean        8.319637          0.527821     0.270976        2.538806   \n",
            "std         1.741096          0.179060     0.194801        1.409928   \n",
            "min         4.600000          0.120000     0.000000        0.900000   \n",
            "25%         7.100000          0.390000     0.090000        1.900000   \n",
            "50%         7.900000          0.520000     0.260000        2.200000   \n",
            "75%         9.200000          0.640000     0.420000        2.600000   \n",
            "max        15.900000          1.580000     1.000000       15.500000   \n",
            "\n",
            "         chlorides  free sulfur dioxide  total sulfur dioxide      density  \\\n",
            "count  1599.000000          1599.000000           1599.000000  1599.000000   \n",
            "mean      0.087467            15.874922             46.467792     0.996747   \n",
            "std       0.047065            10.460157             32.895324     0.001887   \n",
            "min       0.012000             1.000000              6.000000     0.990070   \n",
            "25%       0.070000             7.000000             22.000000     0.995600   \n",
            "50%       0.079000            14.000000             38.000000     0.996750   \n",
            "75%       0.090000            21.000000             62.000000     0.997835   \n",
            "max       0.611000            72.000000            289.000000     1.003690   \n",
            "\n",
            "                pH    sulphates      alcohol      quality  \n",
            "count  1599.000000  1599.000000  1599.000000  1599.000000  \n",
            "mean      3.311113     0.658149    10.422983     5.636023  \n",
            "std       0.154386     0.169507     1.065668     0.807569  \n",
            "min       2.740000     0.330000     8.400000     3.000000  \n",
            "25%       3.210000     0.550000     9.500000     5.000000  \n",
            "50%       3.310000     0.620000    10.200000     6.000000  \n",
            "75%       3.400000     0.730000    11.100000     6.000000  \n",
            "max       4.010000     2.000000    14.900000     8.000000  \n",
            "Nombre d'entrées : 1599\n"
          ]
        }
      ]
    },
    {
      "cell_type": "code",
      "metadata": {
        "id": "j2cZ5b4PPGom",
        "outputId": "b520e0b5-ffc0-4c75-c30b-618f246bc37b",
        "colab": {
          "base_uri": "https://localhost:8080/"
        }
      },
      "source": [
        "# Question 2 : Vérifier les données manquantes\n",
        "donnees_manquantes = data.isnull().sum()\n",
        "total_manquantes = donnees_manquantes.sum()\n",
        "\n",
        "if total_manquantes > 0:\n",
        "    print(f\"Total des données manquantes : {total_manquantes}\")\n",
        "else:\n",
        "    print(\"Il n'y a pas de données manquantes dans le dataset.\")"
      ],
      "execution_count": 6,
      "outputs": [
        {
          "output_type": "stream",
          "name": "stdout",
          "text": [
            "Il n'y a pas de données manquantes dans le dataset.\n"
          ]
        }
      ]
    },
    {
      "cell_type": "markdown",
      "source": [
        "Combien d'entrées existent pour chaque valeur de \"quality\" ?"
      ],
      "metadata": {
        "id": "nlVAtiEhfD18"
      }
    },
    {
      "cell_type": "code",
      "metadata": {
        "id": "sV7S16lMPNbj",
        "outputId": "08a15839-c6a9-423f-da79-7ef5a6db6def",
        "colab": {
          "base_uri": "https://localhost:8080/"
        }
      },
      "source": [
        "compte_quality = data['quality'].value_counts()\n",
        "\n",
        "# Afficher le nombre d'entrées pour chaque valeur de \"quality\"\n",
        "print(compte_quality)"
      ],
      "execution_count": 7,
      "outputs": [
        {
          "output_type": "stream",
          "name": "stdout",
          "text": [
            "quality\n",
            "5    681\n",
            "6    638\n",
            "7    199\n",
            "4     53\n",
            "8     18\n",
            "3     10\n",
            "Name: count, dtype: int64\n"
          ]
        }
      ]
    },
    {
      "cell_type": "markdown",
      "metadata": {
        "id": "NF8lRUyoPlb_"
      },
      "source": [
        "**Visualization des données**"
      ]
    },
    {
      "cell_type": "markdown",
      "metadata": {
        "id": "sTS2dJ4DPrSU"
      },
      "source": [
        "**Analyse Bivariate**"
      ]
    },
    {
      "cell_type": "code",
      "metadata": {
        "id": "jrd0WLdQPaul",
        "outputId": "c60b3c98-bc21-4438-88aa-a752f66f017f",
        "colab": {
          "base_uri": "https://localhost:8080/",
          "height": 509
        }
      },
      "source": [
        "# Vérifier la variation de \"fixed acidity\" dans les différentes catégories de qualité du vin\n",
        "\n",
        "plt.scatter(data['quality'], data['fixed acidity'], color = 'green')\n",
        "plt.title('relation of fixed acidity with wine')\n",
        "plt.xlabel('quality')\n",
        "plt.ylabel('fixed acidity')\n",
        "plt.legend()\n",
        "plt.show()"
      ],
      "execution_count": 8,
      "outputs": [
        {
          "output_type": "stream",
          "name": "stderr",
          "text": [
            "WARNING:matplotlib.legend:No artists with labels found to put in legend.  Note that artists whose label start with an underscore are ignored when legend() is called with no argument.\n"
          ]
        },
        {
          "output_type": "display_data",
          "data": {
            "text/plain": [
              "<Figure size 640x480 with 1 Axes>"
            ],
            "image/png": "[encoded data removed]"
          },
          "metadata": {}
        }
      ]
    },
    {
      "cell_type": "code",
      "metadata": {
        "id": "VYlKkprMQzaT",
        "outputId": "8c6626f2-69b1-4f8b-da2d-0dcf441e5ae3",
        "colab": {
          "base_uri": "https://localhost:8080/",
          "height": 509
        }
      },
      "source": [
        "# Vérifier la variation de l'alcool dans les différentes catégories de qualité du vin\n",
        "\n",
        "plt.bar(data['quality'], data['alcohol'], color = 'maroon')\n",
        "plt.title('relation of alcohol with wine')\n",
        "plt.xlabel('quality')\n",
        "plt.ylabel('alcohol')\n",
        "plt.legend()\n",
        "plt.show()"
      ],
      "execution_count": 9,
      "outputs": [
        {
          "output_type": "stream",
          "name": "stderr",
          "text": [
            "WARNING:matplotlib.legend:No artists with labels found to put in legend.  Note that artists whose label start with an underscore are ignored when legend() is called with no argument.\n"
          ]
        },
        {
          "output_type": "display_data",
          "data": {
            "text/plain": [
              "<Figure size 640x480 with 1 Axes>"
            ],
            "image/png": "[encoded data removed]"
          },
          "metadata": {}
        }
      ]
    },
    {
      "cell_type": "code",
      "metadata": {
        "id": "Z_0HWbEUUYNE",
        "outputId": "b3990e0f-4fa4-495b-ad3a-a7a3a2a99dcc",
        "colab": {
          "base_uri": "https://localhost:8080/",
          "height": 961
        }
      },
      "source": [
        "plt.bar(data['quality'], data['alcohol'], color = 'maroon')\n",
        "plt.title('relation of alcohol with wine')\n",
        "plt.xlabel('quality')\n",
        "plt.ylabel('alcohol')\n",
        "plt.legend()\n",
        "plt.show()\n",
        "print(data.groupby('quality').mean())\n"
      ],
      "execution_count": 10,
      "outputs": [
        {
          "output_type": "stream",
          "name": "stderr",
          "text": [
            "WARNING:matplotlib.legend:No artists with labels found to put in legend.  Note that artists whose label start with an underscore are ignored when legend() is called with no argument.\n"
          ]
        },
        {
          "output_type": "display_data",
          "data": {
            "text/plain": [
              "<Figure size 640x480 with 1 Axes>"
            ],
            "image/png": "[encoded data removed]"
          },
          "metadata": {}
        },
        {
          "output_type": "stream",
          "name": "stdout",
          "text": [
            "         fixed acidity  volatile acidity  citric acid  residual sugar  \\\n",
            "quality                                                                 \n",
            "3             8.360000          0.884500     0.171000        2.635000   \n",
            "4             7.779245          0.693962     0.174151        2.694340   \n",
            "5             8.167254          0.577041     0.243686        2.528855   \n",
            "6             8.347179          0.497484     0.273824        2.477194   \n",
            "7             8.872362          0.403920     0.375176        2.720603   \n",
            "8             8.566667          0.423333     0.391111        2.577778   \n",
            "\n",
            "         chlorides  free sulfur dioxide  total sulfur dioxide   density  \\\n",
            "quality                                                                   \n",
            "3         0.122500            11.000000             24.900000  0.997464   \n",
            "4         0.090679            12.264151             36.245283  0.996542   \n",
            "5         0.092736            16.983847             56.513950  0.997104   \n",
            "6         0.084956            15.711599             40.869906  0.996615   \n",
            "7         0.076588            14.045226             35.020101  0.996104   \n",
            "8         0.068444            13.277778             33.444444  0.995212   \n",
            "\n",
            "               pH  sulphates    alcohol  \n",
            "quality                                  \n",
            "3        3.398000   0.570000   9.955000  \n",
            "4        3.381509   0.596415  10.265094  \n",
            "5        3.304949   0.620969   9.899706  \n",
            "6        3.318072   0.675329  10.629519  \n",
            "7        3.290754   0.741256  11.465913  \n",
            "8        3.267222   0.767778  12.094444  \n"
          ]
        }
      ]
    },
    {
      "cell_type": "code",
      "metadata": {
        "id": "uUscawRncSIy",
        "outputId": "6881cbbb-f48d-4a25-e3f3-69f507ba31e8",
        "colab": {
          "base_uri": "https://localhost:8080/",
          "height": 620
        }
      },
      "source": [
        "# Et pour l'acide citrique ?\n",
        "\n",
        "fig = plt.figure(figsize = (10,6))\n",
        "sns.boxplot(x = 'quality', y = 'citric acid' , data = data)\n",
        "plt.title('Variation de la Acid Citric par Catégorie de Qualité')\n",
        "plt.xlabel('Qualité')\n",
        "plt.ylabel('Acid Citric')\n",
        "plt.show()\n"
      ],
      "execution_count": 11,
      "outputs": [
        {
          "output_type": "stream",
          "name": "stderr",
          "text": [
            "/usr/local/lib/python3.10/dist-packages/seaborn/categorical.py:640: FutureWarning: SeriesGroupBy.grouper is deprecated and will be removed in a future version of pandas.\n",
            "  positions = grouped.grouper.result_index.to_numpy(dtype=float)\n"
          ]
        },
        {
          "output_type": "display_data",
          "data": {
            "text/plain": [
              "<Figure size 1000x600 with 1 Axes>"
            ],
            "image/png": "[encoded data removed]"
          },
          "metadata": {}
        }
      ]
    },
    {
      "cell_type": "code",
      "metadata": {
        "id": "-0tQJFcVcufI",
        "outputId": "e39932cf-5644-415b-b5d1-abf300ab2dd4",
        "colab": {
          "base_uri": "https://localhost:8080/",
          "height": 559
        }
      },
      "source": [
        "# Les variations du taux de sucre\n",
        "\n",
        "fig = plt.figure(figsize = (10,6))\n",
        "sns.barplot(x = 'quality', y = 'residual sugar', data = data)\n"
      ],
      "execution_count": 12,
      "outputs": [
        {
          "output_type": "execute_result",
          "data": {
            "text/plain": [
              "<Axes: xlabel='quality', ylabel='residual sugar'>"
            ]
          },
          "metadata": {},
          "execution_count": 12
        },
        {
          "output_type": "display_data",
          "data": {
            "text/plain": [
              "<Figure size 1000x600 with 1 Axes>"
            ],
            "image/png": "[encoded data removed]"
          },
          "metadata": {}
        }
      ]
    },
    {
      "cell_type": "code",
      "metadata": {
        "id": "gTKPr7cwc2W5",
        "outputId": "ade2e91a-639f-4d8f-e72a-0844459f42c7",
        "colab": {
          "base_uri": "https://localhost:8080/",
          "height": 559
        }
      },
      "source": [
        "## Le \"chloride\"\n",
        "\n",
        "fig = plt.figure(figsize = (10,6))\n",
        "sns.barplot(x = 'quality', y = 'chlorides', data = data)"
      ],
      "execution_count": 13,
      "outputs": [
        {
          "output_type": "execute_result",
          "data": {
            "text/plain": [
              "<Axes: xlabel='quality', ylabel='chlorides'>"
            ]
          },
          "metadata": {},
          "execution_count": 13
        },
        {
          "output_type": "display_data",
          "data": {
            "text/plain": [
              "<Figure size 1000x600 with 1 Axes>"
            ],
            "image/png": "[encoded data removed]"
          },
          "metadata": {}
        }
      ]
    },
    {
      "cell_type": "code",
      "metadata": {
        "id": "2gxmC8J_dAuP",
        "outputId": "e968052a-c9c8-47b2-b295-817cd99ecdd4",
        "colab": {
          "base_uri": "https://localhost:8080/",
          "height": 561
        }
      },
      "source": [
        "# Le dioxide de souffre (free sulfur dioxide)\n",
        "\n",
        "fig = plt.figure(figsize = (10,6))\n",
        "sns.barplot(x = 'quality', y = 'free sulfur dioxide', data = data)\n",
        "\n"
      ],
      "execution_count": 14,
      "outputs": [
        {
          "output_type": "execute_result",
          "data": {
            "text/plain": [
              "<Axes: xlabel='quality', ylabel='free sulfur dioxide'>"
            ]
          },
          "metadata": {},
          "execution_count": 14
        },
        {
          "output_type": "display_data",
          "data": {
            "text/plain": [
              "<Figure size 1000x600 with 1 Axes>"
            ],
            "image/png": "[encoded data removed]"
          },
          "metadata": {}
        }
      ]
    },
    {
      "cell_type": "code",
      "metadata": {
        "id": "HSv6zwjBdQ7C",
        "outputId": "6ecd4390-75dd-4d7a-cd71-f952591e326a",
        "colab": {
          "base_uri": "https://localhost:8080/",
          "height": 559
        }
      },
      "source": [
        "# total sulfur dioxide\n",
        "\n",
        "fig = plt.figure(figsize = (10,6))\n",
        "sns.barplot(x = 'quality', y = 'total sulfur dioxide', data = data)"
      ],
      "execution_count": 15,
      "outputs": [
        {
          "output_type": "execute_result",
          "data": {
            "text/plain": [
              "<Axes: xlabel='quality', ylabel='total sulfur dioxide'>"
            ]
          },
          "metadata": {},
          "execution_count": 15
        },
        {
          "output_type": "display_data",
          "data": {
            "text/plain": [
              "<Figure size 1000x600 with 1 Axes>"
            ],
            "image/png": "[encoded data removed]"
          },
          "metadata": {}
        }
      ]
    },
    {
      "cell_type": "code",
      "metadata": {
        "id": "20tzCWuAd0P7",
        "outputId": "f6c3d3a2-f8d6-420e-c247-b2bb10cb239d",
        "colab": {
          "base_uri": "https://localhost:8080/",
          "height": 559
        }
      },
      "source": [
        "# et finalement, les sulphates\n",
        "\n",
        "fig = plt.figure(figsize = (10,6))\n",
        "sns.barplot(x = 'quality', y = 'sulphates', data = data)"
      ],
      "execution_count": 16,
      "outputs": [
        {
          "output_type": "execute_result",
          "data": {
            "text/plain": [
              "<Axes: xlabel='quality', ylabel='sulphates'>"
            ]
          },
          "metadata": {},
          "execution_count": 16
        },
        {
          "output_type": "display_data",
          "data": {
            "text/plain": [
              "<Figure size 1000x600 with 1 Axes>"
            ],
            "image/png": "[encoded data removed]"
          },
          "metadata": {}
        }
      ]
    },
    {
      "cell_type": "markdown",
      "metadata": {
        "id": "C9kBmRLx7zs-"
      },
      "source": [
        "## Question: Est-ce qu'il y a des colonnes manquantes dans cette liste ? Essayez de les visualiser aussi."
      ]
    },
    {
      "cell_type": "code",
      "source": [
        "colonnes_manquantes = data.isnull().sum()\n",
        "#les colonnes avec des données manquantes\n",
        "colonnes_manquantes = colonnes_manquantes[colonnes_manquantes > 0]\n",
        "print(\"Colonnes avec des données manquantes :\")\n",
        "print(colonnes_manquantes)\n",
        "#avec seaborn\n",
        "plt.figure(figsize=(12, 8))\n",
        "sns.heatmap(data.isnull(), cmap='viridis', cbar=False, yticklabels=False)\n",
        "plt.title('Carte de chaleur des valeurs manquantes')\n",
        "plt.show()"
      ],
      "metadata": {
        "id": "DZInBE2dgicm",
        "outputId": "9622de8d-43ee-42be-a2b4-78d4a604ec3e",
        "colab": {
          "base_uri": "https://localhost:8080/",
          "height": 850
        }
      },
      "execution_count": 21,
      "outputs": [
        {
          "output_type": "stream",
          "name": "stdout",
          "text": [
            "Colonnes avec des données manquantes :\n",
            "Series([], dtype: int64)\n"
          ]
        },
        {
          "output_type": "display_data",
          "data": {
            "text/plain": [
              "<Figure size 1200x800 with 1 Axes>"
            ],
            "image/png": "[encoded data removed]"
          },
          "metadata": {}
        }
      ]
    },
    {
      "cell_type": "markdown",
      "metadata": {
        "id": "T1jjcN9ShcOh"
      },
      "source": [
        "## Choix des variables\n",
        "\n",
        "Comme nous pouvons le voir ci-dessus, certains éléments n'ont pas une forte relation avec la variable dépendante (qualité). Nous devons donc présenter un graphique de corrélation pour vérifier lesquels des éléments sont les plus liés à la variable dépendante et quels éléments sont les moins liés."
      ]
    },
    {
      "cell_type": "code",
      "metadata": {
        "id": "ksM_G58cekXx"
      },
      "source": [
        "\n",
        "f, ax = plt.subplots(figsize=(10, 8))\n",
        "corr = data.corr()\n",
        "sns.heatmap(corr, mask=np.zeros_like(corr, dtype=bool), cmap=sns.diverging_palette(220, 10, as_cmap=True),\n",
        "            square=True, ax=ax)"
      ],
      "execution_count": null,
      "outputs": []
    },
    {
      "cell_type": "markdown",
      "metadata": {
        "id": "JZ--oZc3Trtn"
      },
      "source": [
        "À partir du graphique de corrélation ci-dessus pour l'ensemble de données donné pour la prédiction de la qualité du vin, nous pouvons facilement voir quels éléments sont fortement liés les uns aux autres et quels éléments sont liés chaque semaine les uns aux autres.\n",
        "Par exemple,\n",
        "# Les éléments très correlés sont :\n",
        "\n",
        "1. _____\n",
        "2. _____\n",
        "3. _____\n",
        "4. _____\n",
        "\n",
        "Quel est l'élément le plus important pour la qualité du vin ?\n",
        "\n",
        "______________________\n",
        "\n",
        "# Les éléments peu corrélés sont :\n",
        "\n",
        "1. _____\n",
        "2. _____\n",
        "3. _____\n",
        "\n",
        "Certains n'ont aucune influence."
      ]
    },
    {
      "cell_type": "code",
      "metadata": {
        "id": "Zwz57vdrgG_Y"
      },
      "source": [
        "sns.pairplot(data)"
      ],
      "execution_count": null,
      "outputs": []
    },
    {
      "cell_type": "markdown",
      "metadata": {
        "id": "nZoQ5Ga_V_Nh"
      },
      "source": [
        "**Pré-traitement des données**"
      ]
    },
    {
      "cell_type": "code",
      "metadata": {
        "id": "Jc6FdLvtbgEL"
      },
      "source": [
        "#Suppression des colonnes inutiles de l'ensemble de données\n",
        "# Comme nous l'avons vu, l'acidité fixe, le dioxyde de soufre libre, les le sucre et le pH sont très peu liés à la\n",
        "# qualité, donc même si nous supprimons ces colonnes, la précision ne sera pas tellement affectée.\n",
        "\n",
        "data = data.drop(['fixed acidity', 'residual sugar', 'free sulfur dioxide', 'pH'], axis = 1)\n",
        "\n",
        "# checking the shape of the dataset\n",
        "#print(data.shape)"
      ],
      "execution_count": null,
      "outputs": []
    },
    {
      "cell_type": "code",
      "metadata": {
        "id": "U_H99IDDcx8r"
      },
      "source": [
        "data.columns"
      ],
      "execution_count": null,
      "outputs": []
    },
    {
      "cell_type": "markdown",
      "source": [
        "#Catégorisation des labels\n",
        "La qualité des vins est donnée actuellement comme une note entre 0 et 10. Nous allons transformer cette note en 6 classes afin de classer les vins.\n",
        "\n",
        "Plusieurs méthodes sont possibles. Dans le premier cas (code commenté), on utilise la fonction `cut()` de Pandas pour séparer les données en deux groupes (bad et good), selon des \"points de coupe\" indiqués (2 <= bad < 6.5 <= good <=8)"
      ],
      "metadata": {
        "id": "6gZVhBnxhsXN"
      }
    },
    {
      "cell_type": "code",
      "source": [
        "# converting the response variables(3-7) as binary response variables that is either good or bad\n",
        "\n",
        "#names = ['bad', 'good']\n",
        "#bins = (2, 6.5, 8)\n",
        "\n",
        "#data['quality'] = pd.cut(data['quality'], bins = bins, labels = names)\n"
      ],
      "metadata": {
        "id": "juEqxmuCiPBP"
      },
      "execution_count": null,
      "outputs": []
    },
    {
      "cell_type": "code",
      "metadata": {
        "id": "mfQE96iVe6yy"
      },
      "source": [
        "\n",
        "data['quality'] = data['quality'].map({3 : 'bad', 4 :'bad', 5: 'bad',\n",
        "                                      6: 'good', 7: 'good', 8: 'good'})\n",
        "data.info()"
      ],
      "execution_count": null,
      "outputs": []
    },
    {
      "cell_type": "code",
      "metadata": {
        "id": "RMKLZoSIh1H2"
      },
      "source": [
        "\n",
        "data.head()\n",
        "# Maintenant, combien de valeurs distinctes (classes) on trouve ?\n",
        "data['quality'].value_counts()"
      ],
      "execution_count": null,
      "outputs": []
    },
    {
      "cell_type": "markdown",
      "source": [
        "## Encodage de données catégoriques\n",
        "Maintenant que nous avons transformé les notes en catégories, il faut faire une dernière étape pour s'assurer que les labels seront bien pris en compte. Pour cela, on utilise le `LabelEncoder`vu en cours 1."
      ],
      "metadata": {
        "id": "VKOukO-di39r"
      }
    },
    {
      "cell_type": "code",
      "metadata": {
        "id": "cUesnwfaxbeE"
      },
      "source": [
        "from sklearn.preprocessing import LabelEncoder\n",
        "\n",
        "le = LabelEncoder()\n",
        "\n",
        "data['quality'] = le.fit_transform(data['quality'])\n",
        "\n",
        "data['quality'].value_counts"
      ],
      "execution_count": null,
      "outputs": []
    },
    {
      "cell_type": "code",
      "metadata": {
        "id": "5Pfnr-ZTlKYb"
      },
      "source": [
        "sns.countplot(data, x=\"quality\")"
      ],
      "execution_count": null,
      "outputs": []
    },
    {
      "cell_type": "markdown",
      "source": [
        "## Création des ensembles de train et test"
      ],
      "metadata": {
        "id": "cH6n3qBhjm-x"
      }
    },
    {
      "cell_type": "code",
      "metadata": {
        "id": "RpyDnFWHrdYS"
      },
      "source": [
        "# Séparation des colonnes x (\"features\") de celle y (\"target\")\n",
        "\n",
        "x = data.iloc[:,:7]\n",
        "y = data.iloc[:,7]\n",
        "\n",
        "# determining the shape of x and y.\n",
        "print(x.shape)\n",
        "print(y.shape)"
      ],
      "execution_count": null,
      "outputs": []
    },
    {
      "cell_type": "code",
      "metadata": {
        "id": "hkN0MN_hWvMP"
      },
      "source": [
        "# Séparation du dataset en train/test\n",
        "\n",
        "from sklearn.model_selection import train_test_split\n",
        "\n",
        "x_train, x_test, y_train, y_test = train_test_split(x, y, test_size = 0.25, random_state = 44)\n",
        "\n",
        "# determining the shapes of training and testing sets\n",
        "print(x_train.shape)\n",
        "print(y_train.shape)\n",
        "print(x_test.shape)\n",
        "print(y_test.shape)"
      ],
      "execution_count": null,
      "outputs": []
    },
    {
      "cell_type": "markdown",
      "source": [
        "Dernière étape, on utilise un scaler pour ramener toutes les variables dépendantes (x) à la même échelle de données (0 à 1 ou -1 à 1, le plus souvent). Ceci est important car on peut avoir des variables aveec des échelles très différentes (par exemple, \"nombre de pièces d'une maison\" en quelques unités et \"prix\" en miliers d'euros). Un scaler peut empechêr certains algorithmes d'être trompés par l'ordre de grandeur des valeurs."
      ],
      "metadata": {
        "id": "BbNcx7NYkCln"
      }
    },
    {
      "cell_type": "code",
      "metadata": {
        "id": "I0-FiWq_XiVa"
      },
      "source": [
        "# standard scaling\n",
        "from sklearn.preprocessing import StandardScaler\n",
        "\n",
        "sc = StandardScaler()\n",
        "x_train = sc.fit_transform(x_train)\n",
        "x_test = sc.fit_transform(x_test)\n"
      ],
      "execution_count": null,
      "outputs": []
    },
    {
      "cell_type": "markdown",
      "metadata": {
        "id": "3TWu9QqIYw5r"
      },
      "source": [
        "# Modélisation\n",
        "\n",
        "Vous pouvez enfin créer un modèle machine learning pour vos données.\n",
        "\n",
        "Le paragraphe ci-dessous utilise un arbre de décision. Rappellez-vous que la syntaxe ScikitLearn ne change que très peu, en général il suffit d'instancier un autre algorithme puis utiliser les mêmes appels fit et predict."
      ]
    },
    {
      "cell_type": "markdown",
      "metadata": {
        "id": "YsDnq0hjaVx2"
      },
      "source": [
        "**Decision Tree**"
      ]
    },
    {
      "cell_type": "code",
      "metadata": {
        "id": "YuWDSGAKaR0a"
      },
      "source": [
        "from sklearn.tree import DecisionTreeClassifier\n",
        "\n",
        "# creating model\n",
        "model = DecisionTreeClassifier()\n",
        "\n",
        "# feeding the training set into the model\n",
        "model.fit(x_train, y_train)\n",
        "\n",
        "# predicting the results for the test set\n",
        "y_pred = model.predict(x_test)\n",
        "\n",
        "# calculating the training and testing accuracies\n",
        "print(\"Training accuracy :\", model.score(x_train, y_train))\n",
        "print(\"Testing accuracy :\", model.score(x_test, y_test))"
      ],
      "execution_count": null,
      "outputs": []
    },
    {
      "cell_type": "code",
      "metadata": {
        "id": "Z7IcDlUV5Rbt"
      },
      "source": [
        "from sklearn.metrics import classification_report, confusion_matrix\n",
        "\n",
        "# classification report\n",
        "#classification_report(y_test, y_pred)\n",
        "print(classification_report(y_test, y_pred))\n",
        "\n",
        "# confusion matrix\n",
        "print(confusion_matrix(y_test, y_pred))\n"
      ],
      "execution_count": null,
      "outputs": []
    },
    {
      "cell_type": "markdown",
      "source": [
        "## Hyperparamètres\n",
        "\n",
        "Avant de tester autres algorithmes, avez-vous noté qu'on n'a passé aucun paramètre à `DecisionTreeClassifier()` ? Regardez la documentation de cette classe dans [la doc](https://scikit-learn.org/stable/modules/generated/sklearn.tree.DecisionTreeClassifier.html) et essayez d'autres paramètres (profondeur max, par exemple)."
      ],
      "metadata": {
        "id": "2CDDwRj3lhdN"
      }
    },
    {
      "cell_type": "code",
      "source": [],
      "metadata": {
        "id": "Ps9qq6JumM7r"
      },
      "execution_count": null,
      "outputs": []
    },
    {
      "cell_type": "markdown",
      "source": [
        "## Autres algorithmes\n",
        "Maintenant que vous avez fait un modèle avec les arbres de décision, créez des modèles avec d'autres algorithmes"
      ],
      "metadata": {
        "id": "Fg9rknb6mL5g"
      }
    },
    {
      "cell_type": "markdown",
      "metadata": {
        "id": "i0awjbHDa8ws"
      },
      "source": [
        "**Random Forest**\n",
        "\n",
        "`from sklearn.ensemble import RandomForestClassifier`"
      ]
    },
    {
      "cell_type": "code",
      "source": [],
      "metadata": {
        "id": "MLLPrtNAmjfU"
      },
      "execution_count": null,
      "outputs": []
    },
    {
      "cell_type": "markdown",
      "source": [
        "**Gradient Boost**\n",
        "Ici nous allons utiliser une alternative à XGBoost.\n",
        "\n",
        "`from sklearn.ensemble import GradientBoostingClassifier``"
      ],
      "metadata": {
        "id": "ehHw_8sNmlGV"
      }
    },
    {
      "cell_type": "code",
      "source": [],
      "metadata": {
        "id": "pDh5iMRkm4Zb"
      },
      "execution_count": null,
      "outputs": []
    },
    {
      "cell_type": "markdown",
      "source": [
        "**K plus proches voisins (KNN)**\n",
        "\n",
        "`from sklearn.neighbors import KNeighborsClassifier`"
      ],
      "metadata": {
        "id": "k_2s5rnOobQ-"
      }
    },
    {
      "cell_type": "code",
      "source": [],
      "metadata": {
        "id": "tI72ObQqokhL"
      },
      "execution_count": null,
      "outputs": []
    },
    {
      "cell_type": "markdown",
      "source": [
        "**Naive Bayes**\n",
        "\n",
        "`from sklearn.naive_bayes import CategoricalNB`"
      ],
      "metadata": {
        "id": "d3a8y5WtosgR"
      }
    },
    {
      "cell_type": "code",
      "source": [],
      "metadata": {
        "id": "Wvlk5QtSo_GZ"
      },
      "execution_count": null,
      "outputs": []
    },
    {
      "cell_type": "markdown",
      "metadata": {
        "id": "KDrwXgAYY3lF"
      },
      "source": [
        "**Logistic Regression**\n",
        "\n",
        "`from sklearn.linear_model import LogisticRegression``\n"
      ]
    },
    {
      "cell_type": "code",
      "source": [],
      "metadata": {
        "id": "XTMwq3ROpPpy"
      },
      "execution_count": null,
      "outputs": []
    },
    {
      "cell_type": "markdown",
      "source": [],
      "metadata": {
        "id": "5AIZa3gzpQsm"
      }
    },
    {
      "cell_type": "markdown",
      "metadata": {
        "id": "2UGT52AKvLgt"
      },
      "source": [
        "**SVM**\n",
        "\n",
        "`from sklearn.svm import SVC`\n",
        "\n",
        "La classe SVC a plusieurs hyperparamètres dont `kernel`. Essayez différents types de kernel parmi *linear*, *poly*, *rbf* (par défaut) ou *sigmoid*.\n"
      ]
    },
    {
      "cell_type": "markdown",
      "metadata": {
        "id": "OphQJJ-B7ztC"
      },
      "source": [
        "## Question 3: Quelle combinaison algorithme/hyperparamètres est la plus précise ?"
      ]
    },
    {
      "cell_type": "markdown",
      "metadata": {
        "id": "utcR7nhK7ztC"
      },
      "source": [
        "# Bonus\n",
        "\n",
        "Jusqu'à présent vous avez suivi des instructions. Essayez maintenant de faire tout seul :\n",
        "- que se passe-t-il si on utilise toutes les colonnes (au lieu de supprimer les moins correlées) ?\n",
        "- Est-ce qu'on peut améliorer l'accuracy en supprimant une colonne en plus ?\n",
        "- Est-ce qu'on peut faire une meilleure classification avec un \"category map\" différent ?\n",
        "- Comment votre modèle se comporte uniquement avec du vin blanc ? (http://archive.ics.uci.edu/ml/machine-learning-databases/wine-quality/winequality-white.csv)\n",
        "- Developez un modèle spécifique pour le vin blan et le comparez au modèle pour le vin rouge."
      ]
    },
    {
      "cell_type": "code",
      "source": [],
      "metadata": {
        "id": "xR5z6PCpwj8y"
      },
      "execution_count": null,
      "outputs": []
    }
  ]
}